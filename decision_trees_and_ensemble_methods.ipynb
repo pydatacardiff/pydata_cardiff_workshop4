{
 "cells": [
  {
   "cell_type": "markdown",
   "id": "bd009d18-60cd-402e-bccf-fd8878c43c47",
   "metadata": {},
   "source": [
    "# Decision Trees, Ensemble Methods and Hyperparameter tuning workshop:\n",
    "\n",
    "# 3rd November 2022\n",
    "\n",
    "![title](images/pydata_cardiff.jpg)"
   ]
  },
  {
   "cell_type": "code",
   "execution_count": null,
   "id": "fa937ce0-30c5-4eaa-aae8-9e9b4f3c93a1",
   "metadata": {},
   "outputs": [],
   "source": [
    "import numpy as np\n",
    "import pandas as pd\n",
    "import seaborn as sns\n",
    "import matplotlib.pyplot as plt\n",
    "\n",
    "from sklearn.model_selection import train_test_split, cross_val_score, StratifiedKFold\n",
    "from sklearn.tree import DecisionTreeClassifier, plot_tree\n",
    "from sklearn.ensemble import BaggingClassifier, RandomForestClassifier, ExtraTreesClassifier\n",
    "from sklearn.datasets import load_wine, load_breast_cancer\n",
    "from sklearn.metrics import accuracy_score\n",
    "\n",
    "from palmerpenguins import load_penguins"
   ]
  },
  {
   "cell_type": "code",
   "execution_count": null,
   "id": "9adae542-f491-44d8-91a5-d205c281f226",
   "metadata": {},
   "outputs": [],
   "source": [
    "penguins_raw = load_penguins()\n",
    "penguins = (\n",
    "    penguins_raw\n",
    "    .dropna()\n",
    "    .drop(columns=[\"island\", \"sex\", \"year\"])\n",
    ")"
   ]
  },
  {
   "cell_type": "code",
   "execution_count": null,
   "id": "86a3cbd9-14b7-42f2-9f29-3a1fcf590fd3",
   "metadata": {},
   "outputs": [],
   "source": [
    "penguins.head()"
   ]
  },
  {
   "cell_type": "code",
   "execution_count": null,
   "id": "9c885eaa-635f-4591-b7d6-e86525dcea5c",
   "metadata": {},
   "outputs": [],
   "source": [
    "sns.pairplot(\n",
    "    penguins,\n",
    "    hue=\"species\",\n",
    "    height=2.5,\n",
    "    plot_kws={\"s\": 10}\n",
    ")"
   ]
  },
  {
   "cell_type": "code",
   "execution_count": null,
   "id": "f0f007b1-d70d-4aa6-bb63-1d911786eba0",
   "metadata": {},
   "outputs": [],
   "source": [
    "ax = sns.jointplot(\n",
    "    data=penguins,\n",
    "    x=\"flipper_length_mm\",\n",
    "    y=\"bill_length_mm\",\n",
    "    hue=\"species\"\n",
    ")"
   ]
  },
  {
   "cell_type": "code",
   "execution_count": null,
   "id": "ef628acd-eef7-4560-96da-334dece078d8",
   "metadata": {},
   "outputs": [],
   "source": [
    "ax = sns.jointplot(\n",
    "    data=penguins,\n",
    "    x=\"flipper_length_mm\",\n",
    "    y=\"bill_length_mm\",\n",
    "    hue=\"species\"\n",
    ")\n",
    "ax.ax_joint.axvline(206, c='r');"
   ]
  },
  {
   "cell_type": "code",
   "execution_count": null,
   "id": "e725fb40-4a20-483a-b4bf-5417a303b2fb",
   "metadata": {},
   "outputs": [],
   "source": [
    "ax = sns.jointplot(\n",
    "    data=penguins.loc[lambda x: x[\"flipper_length_mm\"] < 206],\n",
    "    x=\"flipper_length_mm\",\n",
    "    y=\"bill_length_mm\",\n",
    "    hue=\"species\"\n",
    ")\n",
    "ax.ax_joint.axhline(44, c='r');"
   ]
  },
  {
   "cell_type": "markdown",
   "id": "60129a1f-7784-4ba5-99c6-2236e29a33ea",
   "metadata": {},
   "source": [
    "## Trying out some Decision Trees"
   ]
  },
  {
   "cell_type": "code",
   "execution_count": null,
   "id": "68516f51-fc6f-4840-aee8-4c009bce7e05",
   "metadata": {},
   "outputs": [],
   "source": [
    "cv = StratifiedKFold(n_splits=10, shuffle=True, random_state=42)"
   ]
  },
  {
   "cell_type": "code",
   "execution_count": null,
   "id": "3229fe81-b730-42bf-9cd8-545ba9a60d3f",
   "metadata": {},
   "outputs": [],
   "source": [
    "X_penguins = penguins.drop(columns=\"species\")\n",
    "y_penguins = penguins[\"species\"]"
   ]
  },
  {
   "cell_type": "code",
   "execution_count": null,
   "id": "6cde49f6-cb44-4273-a67d-b9bc96847711",
   "metadata": {},
   "outputs": [],
   "source": [
    "y_penguins.value_counts()"
   ]
  },
  {
   "cell_type": "code",
   "execution_count": null,
   "id": "5b7be193-d50e-4d5e-ab30-ea7e31efae92",
   "metadata": {},
   "outputs": [],
   "source": [
    "y_penguins.value_counts() / y_penguins.value_counts().sum()"
   ]
  },
  {
   "cell_type": "markdown",
   "id": "867599fd-b450-4ced-9ddb-bd27c73dc1bd",
   "metadata": {},
   "source": [
    "## Fitting the models\n",
    "\n",
    "Note that a decision tree with a depth of 1 can be called a __Decision Stump__"
   ]
  },
  {
   "cell_type": "code",
   "execution_count": null,
   "id": "cf0fd50a-6698-47e7-b56a-6aa12fb63205",
   "metadata": {},
   "outputs": [],
   "source": [
    "tree1 = DecisionTreeClassifier(max_depth=1)"
   ]
  },
  {
   "cell_type": "code",
   "execution_count": null,
   "id": "3014b546-ef4e-4dfd-a4e2-8a27eb8dad79",
   "metadata": {},
   "outputs": [],
   "source": [
    "tree1_scores = cross_val_score(tree1, X_penguins, y_penguins, scoring=\"accuracy\", cv=cv)"
   ]
  },
  {
   "cell_type": "code",
   "execution_count": null,
   "id": "a681a1d3-1ce7-4fa2-8d95-ab708096553c",
   "metadata": {},
   "outputs": [],
   "source": [
    "tree1_scores"
   ]
  },
  {
   "cell_type": "code",
   "execution_count": null,
   "id": "e5508204-8fd4-4555-80d3-9a1098dfe089",
   "metadata": {},
   "outputs": [],
   "source": [
    "tree1_scores.mean()"
   ]
  },
  {
   "cell_type": "code",
   "execution_count": null,
   "id": "1a2a122b-7f2e-4dc6-aa33-93ad04452ed5",
   "metadata": {},
   "outputs": [],
   "source": [
    "tree2 = DecisionTreeClassifier(max_depth=2)"
   ]
  },
  {
   "cell_type": "code",
   "execution_count": null,
   "id": "4666ac29-2e19-4510-8ddf-f9b7d6b452b6",
   "metadata": {},
   "outputs": [],
   "source": [
    "tree2_scores = cross_val_score(tree2, X_penguins, y_penguins, scoring=\"accuracy\", cv=cv)"
   ]
  },
  {
   "cell_type": "code",
   "execution_count": null,
   "id": "9074dd10-e9b8-4e20-b92e-2e71760c93aa",
   "metadata": {},
   "outputs": [],
   "source": [
    "tree2_scores"
   ]
  },
  {
   "cell_type": "code",
   "execution_count": null,
   "id": "c5abe143-286a-4a88-b3b6-fc7b2e7d89bd",
   "metadata": {},
   "outputs": [],
   "source": [
    "tree2_scores.mean()"
   ]
  },
  {
   "cell_type": "markdown",
   "id": "cbd4eaa3-d2c7-4b54-bfb7-bd765841d41d",
   "metadata": {},
   "source": [
    "## Plotting the Trees\n",
    "\n",
    "In order to plot them using this `plot_tree` function, the trees must first be fitted. So here I am fitting them to the whole training set, even though this would not be used when assessing the performance of the model"
   ]
  },
  {
   "cell_type": "code",
   "execution_count": null,
   "id": "55968fb7-aadd-48d3-8e01-b377a478fca4",
   "metadata": {},
   "outputs": [],
   "source": [
    "tree1.fit(X_penguins, y_penguins)"
   ]
  },
  {
   "cell_type": "code",
   "execution_count": null,
   "id": "248c5b9d-4d87-4599-80c8-1e8dc52fcacc",
   "metadata": {},
   "outputs": [],
   "source": [
    "plot_tree(tree1);"
   ]
  },
  {
   "cell_type": "code",
   "execution_count": null,
   "id": "6b274e91-7197-4834-a596-4d1dca476813",
   "metadata": {},
   "outputs": [],
   "source": [
    "X_penguins.columns[2]"
   ]
  },
  {
   "cell_type": "code",
   "execution_count": null,
   "id": "625c224b-02e1-4333-bcab-89cfa44f05ed",
   "metadata": {},
   "outputs": [],
   "source": [
    "# Note that this has completely discounted the Chinstrap penguins as they are the minority class\n",
    "np.unique(tree1.predict(X_penguins))"
   ]
  },
  {
   "cell_type": "markdown",
   "id": "50419f82-3614-4527-b1b5-8358326a7af8",
   "metadata": {},
   "source": [
    "## Gini Impurity\n",
    "\n",
    "This metric tells us how spread out a collection of categories is. If there are only entries from one category present in a leaf node, then the probability of each entry being correct is 1 and the impurity value will be 0. If there is an equal amount of each category in a leaf node, then this is very uninformative, TO BE CONTINUED\n",
    "\n",
    "$\\Large 1 - \\sum\\limits_{i=1}^{n} (p_{i})^{2}$\n",
    "\n",
    "Here we create arrays of probabilities for categories A and B. This represents the situations when a leaf node is fully populated with category A $p(A) = 1$ or category B $p(B) = 1$, and all combinations inbetween.\n",
    "\n",
    "We can see the the impurity value is 0 when"
   ]
  },
  {
   "cell_type": "code",
   "execution_count": null,
   "id": "400b02ae-adc8-4a5a-a691-fc619cb6b525",
   "metadata": {},
   "outputs": [],
   "source": [
    "prob_a = np.linspace(0, 1, 1000)\n",
    "prob_b = 1 - prob_a"
   ]
  },
  {
   "cell_type": "code",
   "execution_count": null,
   "id": "16a1b159-ac35-422e-a482-2cf590087957",
   "metadata": {},
   "outputs": [],
   "source": [
    "gini_results = 1 - (prob_a**2 + prob_b**2)"
   ]
  },
  {
   "cell_type": "code",
   "execution_count": null,
   "id": "56b7e3d8-3dbc-4681-b1fb-91fe5b0f0720",
   "metadata": {},
   "outputs": [],
   "source": [
    "fig, ax = plt.subplots(figsize=(10, 5))\n",
    "ax.plot(prob_a, gini_results)\n",
    "ax.set_xlabel(\"Probability of A\")\n",
    "ax.set_ylabel(\"Gini Impurity Value\")\n",
    "plt.suptitle(\"Gini Impurity for Binary Classification\");"
   ]
  },
  {
   "cell_type": "code",
   "execution_count": null,
   "id": "a4890270-cefb-4ddf-88cd-3a25daf6bbc9",
   "metadata": {},
   "outputs": [],
   "source": [
    "1 - (0.333333**2 + 0.333333**2 + 0.33333**2)"
   ]
  },
  {
   "cell_type": "code",
   "execution_count": null,
   "id": "96ffc9e2-bb81-40ee-8af0-5b5d57c78060",
   "metadata": {},
   "outputs": [],
   "source": [
    "entropy_results = -(prob_a[1:] * np.log2(prob_a[1:]) + prob_b[:-1] * np.log2(prob_b[:-1]))"
   ]
  },
  {
   "cell_type": "code",
   "execution_count": null,
   "id": "71191210-7fd5-4e7d-9ed2-46cf840a9071",
   "metadata": {},
   "outputs": [],
   "source": [
    "fig, ax = plt.subplots(figsize=(10, 5))\n",
    "ax.plot(prob_a[1:], entropy_results)\n",
    "ax.set_xlabel(\"Probability of A\")\n",
    "ax.set_ylabel(\"Entropy Value\")\n",
    "plt.suptitle(\"Entropy for Binary Classification\");"
   ]
  },
  {
   "cell_type": "code",
   "execution_count": null,
   "id": "c4b5c633-aa82-497c-9ce6-2934fa3e86ca",
   "metadata": {},
   "outputs": [],
   "source": [
    "tree1.criterion = \"entropy\""
   ]
  },
  {
   "cell_type": "code",
   "execution_count": null,
   "id": "b9195779-e55a-4cce-a8a6-b25c318bf409",
   "metadata": {},
   "outputs": [],
   "source": [
    "tree1.fit(X_penguins, y_penguins)"
   ]
  },
  {
   "cell_type": "code",
   "execution_count": null,
   "id": "ba21882b-8f18-4c1d-8469-7a1307a9cbce",
   "metadata": {},
   "outputs": [],
   "source": [
    "plot_tree(tree1);"
   ]
  },
  {
   "cell_type": "markdown",
   "id": "7b3ac097-7df5-43eb-b157-947f307adb7b",
   "metadata": {},
   "source": [
    "## Looking at a tree with a depth of 2"
   ]
  },
  {
   "cell_type": "code",
   "execution_count": null,
   "id": "7c84a180-0dc0-44b2-8f42-e33856d8382a",
   "metadata": {},
   "outputs": [],
   "source": [
    "tree2.fit(X_penguins, y_penguins)"
   ]
  },
  {
   "cell_type": "code",
   "execution_count": null,
   "id": "9b130ec5-4ba6-4893-9d90-8fcda4c64b62",
   "metadata": {},
   "outputs": [],
   "source": [
    "_, ax = plt.subplots(figsize=(10, 5))\n",
    "plot_tree(tree2, ax=ax);"
   ]
  },
  {
   "cell_type": "markdown",
   "id": "18926b07-e968-441b-9186-94ce05af5819",
   "metadata": {},
   "source": [
    "### Looking at the information on the left path\n",
    "\n",
    "This is what we saw earlier, and gets very good classification results"
   ]
  },
  {
   "cell_type": "code",
   "execution_count": null,
   "id": "f79bfc52-464d-4767-b6f1-fffbe409b455",
   "metadata": {},
   "outputs": [],
   "source": [
    "X_penguins.columns[0]"
   ]
  },
  {
   "cell_type": "code",
   "execution_count": null,
   "id": "69f724e3-5374-45d5-8e75-03b34e204562",
   "metadata": {},
   "outputs": [],
   "source": [
    "ax = sns.jointplot(\n",
    "    data=penguins,\n",
    "    x=\"flipper_length_mm\",\n",
    "    y=\"bill_length_mm\",\n",
    "    hue=\"species\"\n",
    ")\n",
    "\n",
    "ax.ax_joint.axvline(206.5, c='r')\n",
    "ax.ax_joint.axhline(43.35, c='r', xmax=0.555)  # This just took experimentation to get the xmax value correct!"
   ]
  },
  {
   "cell_type": "code",
   "execution_count": null,
   "id": "781b8e1e-d29c-4b47-9b87-fbdd94389bb1",
   "metadata": {},
   "outputs": [],
   "source": [
    "ax = sns.jointplot(\n",
    "    data=penguins,\n",
    "    x=\"bill_depth_mm\",\n",
    "    y=\"flipper_length_mm\",\n",
    "    hue=\"species\"\n",
    ")\n",
    "\n",
    "ax.ax_joint.axvline(17.65, c='r', ymin=0.56)\n",
    "ax.ax_joint.axhline(206.5, c='r');"
   ]
  },
  {
   "cell_type": "markdown",
   "id": "b143c4c8-29c9-4e74-b8cf-c4bf1b5292b0",
   "metadata": {},
   "source": [
    "### Is this last split really necessary?\n",
    "\n",
    "The split in the top right hand corner has only identified 7 data points. While it can be argued that it is necessary here... it could be _specific to the data used to train the model_. This is a good example of what could very likely be a case of __Overfitting__. This is when we make a model that is too tailored to the particular data points used to train the model.\n",
    "\n",
    "#### This is a common problem that can occur when using a single decision tree"
   ]
  },
  {
   "cell_type": "markdown",
   "id": "48a1b9d6-c26a-4130-b0ce-1c3099ee9323",
   "metadata": {},
   "source": [
    "# Ensemble methods"
   ]
  },
  {
   "cell_type": "code",
   "execution_count": null,
   "id": "0e867161-9399-41f6-9afa-fb13c6131a10",
   "metadata": {},
   "outputs": [],
   "source": []
  },
  {
   "cell_type": "markdown",
   "id": "461a2f45-3c05-4299-a52f-59a3b41c7364",
   "metadata": {},
   "source": [
    "# Other datasets"
   ]
  },
  {
   "cell_type": "code",
   "execution_count": null,
   "id": "60b817a7-a2ea-4e1c-aed3-7720c0183004",
   "metadata": {},
   "outputs": [],
   "source": [
    "cancer_ds = load_breast_cancer()"
   ]
  },
  {
   "cell_type": "code",
   "execution_count": null,
   "id": "f8ca1476-1af3-413f-a963-d61882d6c436",
   "metadata": {},
   "outputs": [],
   "source": [
    "X_cancer = pd.DataFrame(\n",
    "    columns=cancer_ds[\"feature_names\"],\n",
    "    data=cancer_ds[\"data\"]\n",
    ")\n",
    "\n",
    "y_cancer = pd.Series(\n",
    "    cancer_ds[\"target\"],\n",
    "    name=\"target\"\n",
    ")"
   ]
  },
  {
   "cell_type": "code",
   "execution_count": null,
   "id": "95e7974a-cd25-4730-a1ab-5ed1f646c7b9",
   "metadata": {},
   "outputs": [],
   "source": [
    "rf = RandomForestClassifier(n_estimators=10)"
   ]
  },
  {
   "cell_type": "code",
   "execution_count": null,
   "id": "226bbea4-c8eb-4495-8827-0dc11f289722",
   "metadata": {},
   "outputs": [],
   "source": [
    "cross_val_score(rf, X_cancer, y_cancer, cv=cv)"
   ]
  },
  {
   "cell_type": "code",
   "execution_count": null,
   "id": "55348e82-729d-4924-8000-7842362cf191",
   "metadata": {},
   "outputs": [],
   "source": [
    "banknotes_raw = pd.read_csv(\"https://raw.githubusercontent.com/Muhammad-Taufiq-Khan/Counterfeit-Banknote-Detection-System/main/banknotes.csv\")"
   ]
  },
  {
   "cell_type": "code",
   "execution_count": null,
   "id": "875d61c4-de98-40c0-b496-fa3ffc4ef471",
   "metadata": {},
   "outputs": [],
   "source": [
    "X_banknotes = banknotes_raw.drop(columns=\"class\")\n",
    "y_banknotes = banknotes_raw[\"class\"]"
   ]
  },
  {
   "cell_type": "code",
   "execution_count": null,
   "id": "a063e22f-a184-4e4e-a549-b7f955d08859",
   "metadata": {},
   "outputs": [],
   "source": [
    "y_banknotes.mean()"
   ]
  },
  {
   "cell_type": "code",
   "execution_count": null,
   "id": "f7900bf8-7ab1-4f4c-ba5e-7c50ab54d64b",
   "metadata": {},
   "outputs": [],
   "source": [
    "cross_val_score(rf, X_banknotes, y_banknotes, cv=cv)"
   ]
  },
  {
   "cell_type": "code",
   "execution_count": null,
   "id": "79bee2d5-1602-49af-b584-9a4a68c9b586",
   "metadata": {},
   "outputs": [],
   "source": [
    "heart_raw = pd.read_csv(\"data/heart.csv\")"
   ]
  },
  {
   "cell_type": "code",
   "execution_count": null,
   "id": "926bba86-56ce-48b5-b5ce-591130c1290a",
   "metadata": {},
   "outputs": [],
   "source": [
    "from sklearn.preprocessing import StandardScaler\n",
    "from sklearn.pipeline import Pipeline"
   ]
  },
  {
   "cell_type": "code",
   "execution_count": null,
   "id": "93379fdc-969b-4b9a-ab95-9d36b76ee557",
   "metadata": {},
   "outputs": [],
   "source": [
    "scaler = StandardScaler()\n",
    "pipeline = Pipeline([('scaler', scaler), ('classifier', ExtraTreesClassifier(n_estimators=200))])"
   ]
  },
  {
   "cell_type": "code",
   "execution_count": null,
   "id": "770f7a3b-9751-4593-8ac6-bc1e94c78660",
   "metadata": {},
   "outputs": [],
   "source": [
    "X_heart = heart_raw.drop(columns=\"output\")\n",
    "y_heart = heart_raw[\"output\"]"
   ]
  },
  {
   "cell_type": "code",
   "execution_count": null,
   "id": "ab4c44e2-1d64-45ef-ab60-4b89145e7e69",
   "metadata": {},
   "outputs": [],
   "source": [
    "X_heart"
   ]
  },
  {
   "cell_type": "code",
   "execution_count": null,
   "id": "80decc78-2dd4-4369-a961-c76f9ffeb1d4",
   "metadata": {},
   "outputs": [],
   "source": [
    "cross_val_score(pipeline, X_heart, y_heart, cv=cv)"
   ]
  },
  {
   "cell_type": "markdown",
   "id": "8c4cdf50-afb9-4eb8-8dc0-d5f83279c048",
   "metadata": {},
   "source": [
    "## Now looking at the wine dataset"
   ]
  },
  {
   "cell_type": "code",
   "execution_count": null,
   "id": "29f80484-a0ab-4023-8e34-95d05650d62f",
   "metadata": {},
   "outputs": [],
   "source": [
    "wine_raw = load_wine()"
   ]
  },
  {
   "cell_type": "code",
   "execution_count": null,
   "id": "aa9b5efd-63dd-4ba8-8cf6-82ae5d7981bf",
   "metadata": {},
   "outputs": [],
   "source": [
    "wine_raw.keys()"
   ]
  },
  {
   "cell_type": "code",
   "execution_count": null,
   "id": "14da0b9d-d952-49eb-b3c0-26894f99438b",
   "metadata": {},
   "outputs": [],
   "source": [
    "wine_df = pd.DataFrame(\n",
    "    data=wine_raw[\"data\"],\n",
    "    columns=wine_raw[\"feature_names\"]\n",
    ")\n",
    "\n",
    "full_wine_df = (\n",
    "    wine_df\n",
    "    .assign(**{\n",
    "        \"Type\": wine_raw[\"target\"]\n",
    "    })\n",
    ")"
   ]
  },
  {
   "cell_type": "code",
   "execution_count": null,
   "id": "e6f8599b-231c-4b0e-be02-1477e1fab357",
   "metadata": {},
   "outputs": [],
   "source": [
    "full_wine_df[\"Type\"].value_counts()"
   ]
  },
  {
   "cell_type": "code",
   "execution_count": null,
   "id": "1e7c7cdb-9f83-40f0-bd0b-d1ef139786e0",
   "metadata": {},
   "outputs": [],
   "source": [
    "wine_df.corr()"
   ]
  },
  {
   "cell_type": "code",
   "execution_count": null,
   "id": "6f57b98b-4b96-4fe5-a3bb-33e98191f802",
   "metadata": {},
   "outputs": [],
   "source": [
    "wine_df_norm = (wine_df - wine_df.mean()) / wine_df.std()"
   ]
  },
  {
   "cell_type": "code",
   "execution_count": null,
   "id": "99564db4-a8d3-43eb-83a8-90e61c144889",
   "metadata": {},
   "outputs": [],
   "source": [
    "sns.clustermap(\n",
    "    data=wine_df_norm,\n",
    "    method=\"ward\",\n",
    "    robust=True\n",
    ")"
   ]
  },
  {
   "cell_type": "markdown",
   "id": "72a5cba1-a5c4-43f5-8a64-0f6d9e17e94d",
   "metadata": {},
   "source": [
    "## Fitting the tree"
   ]
  },
  {
   "cell_type": "code",
   "execution_count": null,
   "id": "05359be4-f733-4b38-8bc4-1eec7bd8325a",
   "metadata": {},
   "outputs": [],
   "source": [
    "wine_X = wine_df.copy()\n",
    "wine_y = full_wine_df[\"Type\"]"
   ]
  },
  {
   "cell_type": "code",
   "execution_count": null,
   "id": "ccf3a4e7-7146-4f6c-89f5-8037302004e8",
   "metadata": {},
   "outputs": [],
   "source": [
    "np.random.seed(10)\n",
    "wine_tree = DecisionTreeClassifier(max_depth=1)"
   ]
  },
  {
   "cell_type": "code",
   "execution_count": null,
   "id": "72c7ed1c-be32-49b2-9f33-5734edb07565",
   "metadata": {},
   "outputs": [],
   "source": [
    "cross_val_score(wine_tree, wine_X, wine_y, cv=cv)"
   ]
  },
  {
   "cell_type": "code",
   "execution_count": null,
   "id": "0bde1edf-00fb-47f5-8a38-13746ade4d3f",
   "metadata": {},
   "outputs": [],
   "source": [
    "wine_bagging = BaggingClassifier(\n",
    "    base_estimator=wine_tree,\n",
    "    n_estimators=100,\n",
    "    bootstrap=False\n",
    ")"
   ]
  },
  {
   "cell_type": "code",
   "execution_count": null,
   "id": "726001dc-57a9-499e-82a3-4381d39905e8",
   "metadata": {},
   "outputs": [],
   "source": [
    "cross_val_score(wine_bagging, wine_X, wine_y, cv=cv)"
   ]
  },
  {
   "cell_type": "code",
   "execution_count": null,
   "id": "81fe54bb-8c74-45c9-9252-089cda577560",
   "metadata": {},
   "outputs": [],
   "source": [
    "rf_wine = RandomForestClassifier(\n",
    "    n_estimators=10\n",
    ")"
   ]
  },
  {
   "cell_type": "code",
   "execution_count": null,
   "id": "0682018e-0866-4f10-be2d-a153b6cfc3ea",
   "metadata": {},
   "outputs": [],
   "source": [
    "cross_val_score(rf_wine, wine_X, wine_y, cv=cv)"
   ]
  },
  {
   "cell_type": "code",
   "execution_count": null,
   "id": "d559ebd8-3cb7-4fcc-a3de-d0dfc397605c",
   "metadata": {},
   "outputs": [],
   "source": [
    "et_wine = ExtraTreesClassifier(\n",
    "    n_estimators=100\n",
    ")"
   ]
  },
  {
   "cell_type": "code",
   "execution_count": null,
   "id": "383a13da-c03e-4d21-acf5-567e3ecf6e3d",
   "metadata": {},
   "outputs": [],
   "source": [
    "cross_val_score(et_wine, wine_X, wine_y, cv=cv)"
   ]
  },
  {
   "cell_type": "code",
   "execution_count": null,
   "id": "0e3503df-866f-4735-8889-f1f1b1f8f83e",
   "metadata": {},
   "outputs": [],
   "source": [
    "\n",
    "###############################################################################\n",
    "#                          1. Importing Libraries                             #\n",
    "###############################################################################\n",
    "# The usual stuff\n",
    "import pandas as pd\n",
    "import numpy as np\n",
    "\n",
    "# Iris dataset\n",
    "from sklearn.datasets import load_iris\n",
    "\n",
    "# Data preprocessing and machine learning\n",
    "from sklearn.model_selection import train_test_split\n",
    "from sklearn.tree import DecisionTreeClassifier\n",
    "from sklearn.ensemble import BaggingClassifier\n",
    "\n",
    "# To measure performance\n",
    "from sklearn import metrics"
   ]
  },
  {
   "cell_type": "code",
   "execution_count": null,
   "id": "32dc75a5-2807-4855-b316-101f02c36ce5",
   "metadata": {},
   "outputs": [],
   "source": [
    "iris = load_iris()\n",
    "iris_df = pd.DataFrame(\n",
    "    columns=iris[\"feature_names\"],\n",
    "    data=iris[\"data\"]\n",
    ")"
   ]
  },
  {
   "cell_type": "code",
   "execution_count": null,
   "id": "6de0bc56-d159-4ab5-8e44-a3167b22a05d",
   "metadata": {},
   "outputs": [],
   "source": [
    "iris['target_names']"
   ]
  },
  {
   "cell_type": "code",
   "execution_count": null,
   "id": "59b90a18-80bf-4714-9fd0-458afb6e6f8d",
   "metadata": {},
   "outputs": [],
   "source": [
    "iris_df[\"Species\"] = pd.Series(iris[\"target\"]).map({0: 'Setosa', 1: 'Versicolor', 2: 'Virginica'})"
   ]
  },
  {
   "cell_type": "code",
   "execution_count": null,
   "id": "5564613f-585d-4046-9005-7abdf86c1aa2",
   "metadata": {},
   "outputs": [],
   "source": [
    "sns.pairplot(\n",
    "    iris_df,\n",
    "    hue=\"Species\",\n",
    "    height=2.5,\n",
    "    plot_kws={\"s\": 8}\n",
    ")"
   ]
  },
  {
   "cell_type": "code",
   "execution_count": null,
   "id": "80c95718-c3f7-4f9e-ad7b-8bdc7fd07ee7",
   "metadata": {},
   "outputs": [],
   "source": [
    "###############################################################################\n",
    "#                 2. Stump vs Ensemble of 1000 Decision Stumps                #\n",
    "###############################################################################\n",
    "# Load data and store it into pandas DataFrame objects\n",
    "# iris = load_iris()\n",
    "X_iris = iris_df.drop(columns=\"Species\")\n",
    "y_iris = iris_df[\"Species\"]\n",
    "\n",
    "# Splitting Dataset\n",
    "X_train, X_test, y_train, y_test = train_test_split(X_iris, y_iris, test_size = 20, random_state = 100)\n",
    "\n",
    "# Defining the stump\n",
    "stump = DecisionTreeClassifier(max_depth = 1)\n",
    "\n",
    "# Creating an ensemble \n",
    "ensemble = BaggingClassifier(base_estimator = stump, n_estimators = 1000,\n",
    "                             bootstrap = False)\n",
    "\n",
    "# Training classifiers\n",
    "stump.fit(X_train, y_train)\n",
    "ensemble.fit(X_train, y_train)\n",
    "\n",
    "# Making predictions\n",
    "y_pred_stump = stump.predict(X_test)\n",
    "y_pred_ensemble = ensemble.predict(X_test)\n",
    "\n",
    "# Determine performance\n",
    "stump_accuracy = metrics.accuracy_score(y_test, y_pred_stump)\n",
    "ensemble_accuracy = metrics.accuracy_score(y_test, y_pred_ensemble)\n",
    "\n",
    "# Print message to user\n",
    "print(f\"The accuracy of the stump is {stump_accuracy*100:.1f} %\")\n",
    "print(f\"The accuracy of the ensemble is {ensemble_accuracy*100:.1f} %\")"
   ]
  },
  {
   "cell_type": "code",
   "execution_count": null,
   "id": "0b91b44f-e38a-43c4-b2f5-601e313887c2",
   "metadata": {},
   "outputs": [],
   "source": [
    "###############################################################################\n",
    "#                          3. Stump vs Random Forest                          #\n",
    "###############################################################################\n",
    "# Defining the stump\n",
    "stump = DecisionTreeClassifier(max_depth = 1, splitter = \"best\", max_features = \"sqrt\")\n",
    "\n",
    "# Create Random Forest \n",
    "ensemble = BaggingClassifier(base_estimator = stump, n_estimators = 1000,\n",
    "                             bootstrap = True)\n",
    "\n",
    "# Training classifiers\n",
    "stump.fit(X_train, np.ravel(y_train))\n",
    "ensemble.fit(X_train, np.ravel(y_train))\n",
    "\n",
    "# Making predictions\n",
    "y_pred_tree = stump.predict(X_test)\n",
    "y_pred_ensemble = ensemble.predict(X_test)\n",
    "\n",
    "# Determine performance\n",
    "stump_accuracy = metrics.accuracy_score(y_test, y_pred_stump)\n",
    "ensemble_accuracy = metrics.accuracy_score(y_test, y_pred_ensemble)\n",
    "\n",
    "# Print message to user\n",
    "print(f\"The accuracy of the stump is {stump_accuracy*100:.1f} %\")\n",
    "print(f\"The accuracy of the Random Forest is {ensemble_accuracy*100:.1f} %\")"
   ]
  },
  {
   "cell_type": "code",
   "execution_count": null,
   "id": "86282409-7a8f-4fca-bb8e-89c57c4fca29",
   "metadata": {},
   "outputs": [],
   "source": []
  }
 ],
 "metadata": {
  "kernelspec": {
   "display_name": "Python 3 (ipykernel)",
   "language": "python",
   "name": "python3"
  },
  "language_info": {
   "codemirror_mode": {
    "name": "ipython",
    "version": 3
   },
   "file_extension": ".py",
   "mimetype": "text/x-python",
   "name": "python",
   "nbconvert_exporter": "python",
   "pygments_lexer": "ipython3",
   "version": "3.9.12"
  }
 },
 "nbformat": 4,
 "nbformat_minor": 5
}
