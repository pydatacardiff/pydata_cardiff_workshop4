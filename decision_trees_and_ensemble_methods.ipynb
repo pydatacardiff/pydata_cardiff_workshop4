{
 "cells": [
  {
   "cell_type": "code",
   "execution_count": null,
   "id": "fa937ce0-30c5-4eaa-aae8-9e9b4f3c93a1",
   "metadata": {},
   "outputs": [],
   "source": [
    "import numpy as np\n",
    "import pandas as pd\n",
    "import seaborn as sns\n",
    "import matplotlib.pyplot as plt\n",
    "\n",
    "from sklearn.model_selection import train_test_split, cross_val_score, StratifiedKFold\n",
    "from sklearn.tree import DecisionTreeClassifier, plot_tree\n",
    "from sklearn.ensemble import BaggingClassifier, RandomForestClassifier, ExtraTreesClassifier\n",
    "from sklearn.datasets import load_wine\n",
    "\n",
    "from palmerpenguins import load_penguins"
   ]
  },
  {
   "cell_type": "code",
   "execution_count": null,
   "id": "9adae542-f491-44d8-91a5-d205c281f226",
   "metadata": {},
   "outputs": [],
   "source": [
    "penguins_raw = load_penguins()\n",
    "penguins = (\n",
    "    penguins_raw\n",
    "    .dropna()\n",
    "    .drop(columns=[\"island\", \"sex\", \"year\"])\n",
    ")"
   ]
  },
  {
   "cell_type": "code",
   "execution_count": null,
   "id": "86a3cbd9-14b7-42f2-9f29-3a1fcf590fd3",
   "metadata": {},
   "outputs": [],
   "source": [
    "penguins.head()"
   ]
  },
  {
   "cell_type": "code",
   "execution_count": null,
   "id": "9c885eaa-635f-4591-b7d6-e86525dcea5c",
   "metadata": {},
   "outputs": [],
   "source": [
    "sns.pairplot(penguins, hue=\"species\", height=2.5)"
   ]
  },
  {
   "cell_type": "code",
   "execution_count": null,
   "id": "f0f007b1-d70d-4aa6-bb63-1d911786eba0",
   "metadata": {},
   "outputs": [],
   "source": [
    "ax = sns.jointplot(\n",
    "    data=penguins,\n",
    "    x=\"bill_length_mm\",\n",
    "    y=\"flipper_length_mm\",\n",
    "    hue=\"species\"\n",
    ")"
   ]
  },
  {
   "cell_type": "code",
   "execution_count": null,
   "id": "ef628acd-eef7-4560-96da-334dece078d8",
   "metadata": {},
   "outputs": [],
   "source": [
    "ax = sns.jointplot(\n",
    "    data=penguins,\n",
    "    x=\"bill_length_mm\",\n",
    "    y=\"flipper_length_mm\",\n",
    "    hue=\"species\"\n",
    ")\n",
    "ax.ax_joint.axhline(206, c='r');"
   ]
  },
  {
   "cell_type": "code",
   "execution_count": null,
   "id": "e725fb40-4a20-483a-b4bf-5417a303b2fb",
   "metadata": {},
   "outputs": [],
   "source": [
    "ax = sns.jointplot(\n",
    "    data=penguins.loc[lambda x: x[\"flipper_length_mm\"] < 206],\n",
    "    x=\"bill_length_mm\",\n",
    "    y=\"flipper_length_mm\",\n",
    "    hue=\"species\"\n",
    ")\n",
    "ax.ax_joint.axvline(44, c='r');"
   ]
  },
  {
   "cell_type": "markdown",
   "id": "60129a1f-7784-4ba5-99c6-2236e29a33ea",
   "metadata": {},
   "source": [
    "## Trying out some Decision Trees"
   ]
  },
  {
   "cell_type": "code",
   "execution_count": null,
   "id": "68516f51-fc6f-4840-aee8-4c009bce7e05",
   "metadata": {},
   "outputs": [],
   "source": [
    "cv = StratifiedKFold(n_splits=10, shuffle=True, random_state=42)"
   ]
  },
  {
   "cell_type": "code",
   "execution_count": null,
   "id": "3229fe81-b730-42bf-9cd8-545ba9a60d3f",
   "metadata": {},
   "outputs": [],
   "source": [
    "X = penguins.drop(columns=\"species\")\n",
    "y = penguins[\"species\"]"
   ]
  },
  {
   "cell_type": "code",
   "execution_count": null,
   "id": "6cde49f6-cb44-4273-a67d-b9bc96847711",
   "metadata": {},
   "outputs": [],
   "source": [
    "y.value_counts()"
   ]
  },
  {
   "cell_type": "code",
   "execution_count": null,
   "id": "5b7be193-d50e-4d5e-ab30-ea7e31efae92",
   "metadata": {},
   "outputs": [],
   "source": [
    "y.value_counts() / y.value_counts().sum()"
   ]
  },
  {
   "cell_type": "markdown",
   "id": "867599fd-b450-4ced-9ddb-bd27c73dc1bd",
   "metadata": {},
   "source": [
    "## Fitting the models"
   ]
  },
  {
   "cell_type": "code",
   "execution_count": null,
   "id": "cf0fd50a-6698-47e7-b56a-6aa12fb63205",
   "metadata": {},
   "outputs": [],
   "source": [
    "tree1 = DecisionTreeClassifier(max_depth=1)"
   ]
  },
  {
   "cell_type": "code",
   "execution_count": null,
   "id": "3014b546-ef4e-4dfd-a4e2-8a27eb8dad79",
   "metadata": {},
   "outputs": [],
   "source": [
    "tree1_scores = cross_val_score(tree1, X, y, scoring=\"accuracy\", cv=cv)"
   ]
  },
  {
   "cell_type": "code",
   "execution_count": null,
   "id": "a681a1d3-1ce7-4fa2-8d95-ab708096553c",
   "metadata": {},
   "outputs": [],
   "source": [
    "tree1_scores"
   ]
  },
  {
   "cell_type": "code",
   "execution_count": null,
   "id": "e5508204-8fd4-4555-80d3-9a1098dfe089",
   "metadata": {},
   "outputs": [],
   "source": [
    "tree1_scores.mean()"
   ]
  },
  {
   "cell_type": "code",
   "execution_count": null,
   "id": "1a2a122b-7f2e-4dc6-aa33-93ad04452ed5",
   "metadata": {},
   "outputs": [],
   "source": [
    "tree2 = DecisionTreeClassifier(max_depth=2)"
   ]
  },
  {
   "cell_type": "code",
   "execution_count": null,
   "id": "4666ac29-2e19-4510-8ddf-f9b7d6b452b6",
   "metadata": {},
   "outputs": [],
   "source": [
    "tree2_scores = cross_val_score(tree2, X, y, scoring=\"accuracy\", cv=cv)"
   ]
  },
  {
   "cell_type": "code",
   "execution_count": null,
   "id": "9074dd10-e9b8-4e20-b92e-2e71760c93aa",
   "metadata": {},
   "outputs": [],
   "source": [
    "tree2_scores"
   ]
  },
  {
   "cell_type": "code",
   "execution_count": null,
   "id": "c5abe143-286a-4a88-b3b6-fc7b2e7d89bd",
   "metadata": {},
   "outputs": [],
   "source": [
    "tree2_scores.mean()"
   ]
  },
  {
   "cell_type": "markdown",
   "id": "cbd4eaa3-d2c7-4b54-bfb7-bd765841d41d",
   "metadata": {},
   "source": [
    "## Plotting the Trees\n",
    "\n",
    "In order to plot them using this `plot_tree` function, the trees must first be fitted. So here I am fitting them to the whole training set, even though this would not be used when assessing the performance of the model"
   ]
  },
  {
   "cell_type": "code",
   "execution_count": null,
   "id": "55968fb7-aadd-48d3-8e01-b377a478fca4",
   "metadata": {},
   "outputs": [],
   "source": [
    "tree1.fit(X, y)"
   ]
  },
  {
   "cell_type": "code",
   "execution_count": null,
   "id": "248c5b9d-4d87-4599-80c8-1e8dc52fcacc",
   "metadata": {},
   "outputs": [],
   "source": [
    "plot_tree(tree1);"
   ]
  },
  {
   "cell_type": "code",
   "execution_count": null,
   "id": "336bade9-0b5e-4ab5-b7ff-d5621592c95d",
   "metadata": {},
   "outputs": [],
   "source": [
    "np.unique(tree1.predict(X))"
   ]
  },
  {
   "cell_type": "code",
   "execution_count": null,
   "id": "d4c51d84-575d-4710-b3c7-44c3f2f41d69",
   "metadata": {},
   "outputs": [],
   "source": [
    "X.columns"
   ]
  },
  {
   "cell_type": "code",
   "execution_count": null,
   "id": "7c84a180-0dc0-44b2-8f42-e33856d8382a",
   "metadata": {},
   "outputs": [],
   "source": [
    "tree2.fit(X, y)"
   ]
  },
  {
   "cell_type": "code",
   "execution_count": null,
   "id": "9b130ec5-4ba6-4893-9d90-8fcda4c64b62",
   "metadata": {},
   "outputs": [],
   "source": [
    "plot_tree(tree2);"
   ]
  },
  {
   "cell_type": "code",
   "execution_count": null,
   "id": "781b8e1e-d29c-4b47-9b87-fbdd94389bb1",
   "metadata": {},
   "outputs": [],
   "source": [
    "ax = sns.jointplot(\n",
    "    data=penguins,\n",
    "    x=\"bill_depth_mm\",\n",
    "    y=\"flipper_length_mm\",\n",
    "    hue=\"species\"\n",
    ")\n",
    "\n",
    "ax.ax_joint.axvline(17.65, c='r')\n",
    "ax.ax_joint.axhline(206.5, c='r');"
   ]
  },
  {
   "cell_type": "markdown",
   "id": "8c4cdf50-afb9-4eb8-8dc0-d5f83279c048",
   "metadata": {},
   "source": [
    "## Now looking at the wine dataset"
   ]
  },
  {
   "cell_type": "code",
   "execution_count": null,
   "id": "29f80484-a0ab-4023-8e34-95d05650d62f",
   "metadata": {},
   "outputs": [],
   "source": [
    "wine_raw = load_wine()"
   ]
  },
  {
   "cell_type": "code",
   "execution_count": null,
   "id": "aa9b5efd-63dd-4ba8-8cf6-82ae5d7981bf",
   "metadata": {},
   "outputs": [],
   "source": [
    "wine_raw.keys()"
   ]
  },
  {
   "cell_type": "code",
   "execution_count": null,
   "id": "14da0b9d-d952-49eb-b3c0-26894f99438b",
   "metadata": {},
   "outputs": [],
   "source": [
    "wine_df = pd.DataFrame(\n",
    "    data=wine_raw[\"data\"],\n",
    "    columns=wine_raw[\"feature_names\"]\n",
    ")\n",
    "\n",
    "full_wine_df = (\n",
    "    wine_df\n",
    "    .assign(**{\n",
    "        \"Type\": wine_raw[\"target\"]\n",
    "    })\n",
    ")"
   ]
  },
  {
   "cell_type": "code",
   "execution_count": null,
   "id": "e6f8599b-231c-4b0e-be02-1477e1fab357",
   "metadata": {},
   "outputs": [],
   "source": [
    "full_wine_df[\"Type\"].value_counts()"
   ]
  },
  {
   "cell_type": "code",
   "execution_count": null,
   "id": "1e7c7cdb-9f83-40f0-bd0b-d1ef139786e0",
   "metadata": {},
   "outputs": [],
   "source": [
    "wine_df.corr()"
   ]
  },
  {
   "cell_type": "code",
   "execution_count": null,
   "id": "99564db4-a8d3-43eb-83a8-90e61c144889",
   "metadata": {},
   "outputs": [],
   "source": [
    "sns.clustermap(\n",
    "    data=wine_df.corr(method=\"spearman\"),\n",
    "    method=\"ward\",\n",
    "    robust=True\n",
    ")"
   ]
  },
  {
   "cell_type": "markdown",
   "id": "72a5cba1-a5c4-43f5-8a64-0f6d9e17e94d",
   "metadata": {},
   "source": [
    "## Fitting the tree"
   ]
  },
  {
   "cell_type": "code",
   "execution_count": null,
   "id": "05359be4-f733-4b38-8bc4-1eec7bd8325a",
   "metadata": {},
   "outputs": [],
   "source": [
    "wine_X = wine_df.copy()\n",
    "wine_y = full_wine_df[\"Type\"]"
   ]
  },
  {
   "cell_type": "code",
   "execution_count": null,
   "id": "ccf3a4e7-7146-4f6c-89f5-8037302004e8",
   "metadata": {},
   "outputs": [],
   "source": [
    "wine_tree = DecisionTreeClassifier(max_depth=2)"
   ]
  },
  {
   "cell_type": "code",
   "execution_count": null,
   "id": "72c7ed1c-be32-49b2-9f33-5734edb07565",
   "metadata": {},
   "outputs": [],
   "source": [
    "cross_val_score(wine_tree, wine_X, wine_y, cv=cv)"
   ]
  },
  {
   "cell_type": "code",
   "execution_count": null,
   "id": "0bde1edf-00fb-47f5-8a38-13746ade4d3f",
   "metadata": {},
   "outputs": [],
   "source": [
    "wine_bagging = BaggingClassifier(\n",
    "    base_estimator=wine_tree,\n",
    "    n_estimators=10,\n",
    "    bootstrap=True,\n",
    "    bootstrap_features=True\n",
    ")"
   ]
  },
  {
   "cell_type": "code",
   "execution_count": null,
   "id": "726001dc-57a9-499e-82a3-4381d39905e8",
   "metadata": {},
   "outputs": [],
   "source": [
    "cross_val_score(wine_bagging, wine_X, wine_y, cv=cv)"
   ]
  },
  {
   "cell_type": "code",
   "execution_count": null,
   "id": "81fe54bb-8c74-45c9-9252-089cda577560",
   "metadata": {},
   "outputs": [],
   "source": [
    "rf_wine = RandomForestClassifier(\n",
    "    n_estimators=10\n",
    ")"
   ]
  },
  {
   "cell_type": "code",
   "execution_count": null,
   "id": "0682018e-0866-4f10-be2d-a153b6cfc3ea",
   "metadata": {},
   "outputs": [],
   "source": [
    "cross_val_score(rf_wine, wine_X, wine_y, cv=cv)"
   ]
  },
  {
   "cell_type": "code",
   "execution_count": null,
   "id": "d559ebd8-3cb7-4fcc-a3de-d0dfc397605c",
   "metadata": {},
   "outputs": [],
   "source": [
    "et_wine = ExtraTreesClassifier(\n",
    "    n_estimators=100\n",
    ")"
   ]
  },
  {
   "cell_type": "code",
   "execution_count": null,
   "id": "383a13da-c03e-4d21-acf5-567e3ecf6e3d",
   "metadata": {},
   "outputs": [],
   "source": [
    "cross_val_score(et_wine, wine_X, wine_y, cv=cv)"
   ]
  },
  {
   "cell_type": "code",
   "execution_count": null,
   "id": "0e3503df-866f-4735-8889-f1f1b1f8f83e",
   "metadata": {},
   "outputs": [],
   "source": []
  }
 ],
 "metadata": {
  "kernelspec": {
   "display_name": "Python 3 (ipykernel)",
   "language": "python",
   "name": "python3"
  },
  "language_info": {
   "codemirror_mode": {
    "name": "ipython",
    "version": 3
   },
   "file_extension": ".py",
   "mimetype": "text/x-python",
   "name": "python",
   "nbconvert_exporter": "python",
   "pygments_lexer": "ipython3",
   "version": "3.9.12"
  }
 },
 "nbformat": 4,
 "nbformat_minor": 5
}
